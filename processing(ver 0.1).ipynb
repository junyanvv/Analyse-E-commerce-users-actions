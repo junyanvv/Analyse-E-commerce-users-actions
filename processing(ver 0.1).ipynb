{
 "cells": [
  {
   "cell_type": "code",
   "execution_count": 2,
   "id": "6104fd78",
   "metadata": {},
   "outputs": [],
   "source": [
    "import pandas as pd\n",
    "import numpy as np"
   ]
  },
  {
   "cell_type": "code",
   "execution_count": 37,
   "id": "5267ccba",
   "metadata": {},
   "outputs": [
    {
     "name": "stdout",
     "output_type": "stream",
     "text": [
      "0       38037\n",
      "1      103986\n",
      "2      101942\n",
      "3       71612\n",
      "4       49725\n",
      "        ...  \n",
      "995    104162\n",
      "996     99003\n",
      "997     72395\n",
      "998     59758\n",
      "999     74312\n",
      "Name: Income, Length: 1000, dtype: int64\n"
     ]
    }
   ],
   "source": [
    "#读取数据，第一行作为columns，跳过第二行的中文说明字段\n",
    "original_data=pd.read_csv(\"ecommerce_user_behavior_dataset.csv\",header=0,skiprows=[1],encoding=\"gbk\")\n",
    "original_data.head()"
   ]
  },
  {
   "cell_type": "markdown",
   "id": "2120333a",
   "metadata": {},
   "source": [
    "构建RFM模型，需要界定R(Recency),F(Frequency),M(Monetary)，分别衡量最近一次消费是在几天前？消费的频率如何？消费金额如何？其与客户价值的关系分别为，R为负相关，F为正相关，M为正相关。为便于处理，我们新定义一个r来替代R，满足r=-R，这样RFM三个因子都为正相关。"
   ]
  },
  {
   "cell_type": "code",
   "execution_count": null,
   "id": "9b492edb",
   "metadata": {},
   "outputs": [],
   "source": [
    "#实现自定义对多个列指标进行加权以构成核心R,F,M因子\n",
    "#考虑到不同的指标间的数据量级差别较大，这里对namelist中的每个值都进行对数化处理\n",
    "def composit_means(namelist,weight_list,group):\n",
    "    \"\"\"\n",
    "    namelist是需要进行加权的列名列表\n",
    "    weight_list是各个列名中的值对应的权重(索引一一对应,即namelist[a]的元素对应的权重为weight_list)\n",
    "    group是你需要进行自定义加权处理的数据集，需要在分组后进行使用\n",
    "    \"\"\"\n",
    "    if len(namelist)!=len(weight_list):\n",
    "        Error1=\"Error,check the whether namelist and weight list has the same dimensions\"\n",
    "        return Error1\n",
    "    if sum(weight_list)!=1:\n",
    "        Error2=\"Error, check whether your weight_list has a sum of 1\"\n",
    "        return Error2\n",
    "    weightedsum=0\n",
    "    for name, weight in zip(namelist,weight_list):\n",
    "        weightedsum+=np.log(group[name].mean())*weight\n",
    "    return weightedsum"
   ]
  },
  {
   "cell_type": "code",
   "execution_count": null,
   "id": "288db86d",
   "metadata": {},
   "outputs": [
    {
     "name": "stdout",
     "output_type": "stream",
     "text": [
      "         Recency  Frequency  Monetary\n",
      "User_ID                              \n",
      "#1          -5.0          7        18\n",
      "#10        -13.0          8        61\n",
      "#100        -9.0          7        92\n",
      "#1000      -12.0          7       175\n",
      "#101       -29.0          5        51\n",
      "...          ...        ...       ...\n",
      "#995       -10.0          1        60\n",
      "#996       -18.0          7        83\n",
      "#997       -16.0          3       180\n",
      "#998        -8.0          8       130\n",
      "#999        -1.0          3       152\n",
      "\n",
      "[1000 rows x 3 columns]\n"
     ]
    }
   ],
   "source": [
    "#进行RFM计算（这里注意下agg语法的书写要求）\n",
    "#agg的语法为，输入一个字典，键为列名，值为计算方法，常见的有\"count\" \"sum\" \"mean\"······\n",
    "RFM=original_data.groupby(\"User_ID\").agg({\"Last_Login_Days_Ago\": \"mean\",\"Purchase_Frequency\":\"sum\",\"Average_Order_Value\":\"sum\"\n",
    "                                          }).rename(columns={\"Last_Login_Days_Ago\":\"Recency\",\"Purchase_Frequency\":\"Frequency\"\n",
    "                                                            ,\"Average_Order_Value\":\"Monetary\"})\n",
    "RFM[\"Recency\"]=-RFM[\"Recency\"]\n",
    "print(RFM)"
   ]
  },
  {
   "cell_type": "code",
   "execution_count": null,
   "id": "253b51d0",
   "metadata": {},
   "outputs": [
    {
     "name": "stdout",
     "output_type": "stream",
     "text": [
      "         Recency  Frequency  Monetary\n",
      "User_ID                              \n",
      "#1          -5.0        7.0  5.907132\n",
      "#10        -13.0        8.0  6.952240\n",
      "#100        -9.0        7.0  6.878207\n",
      "#1000      -12.0        7.0  6.840940\n",
      "#101       -29.0        5.0  6.087967\n",
      "...          ...        ...       ...\n",
      "#995       -10.0        1.0  5.877430\n",
      "#996       -18.0        7.0  6.442719\n",
      "#997       -16.0        3.0  6.716892\n",
      "#998        -8.0        8.0  6.614837\n",
      "#999        -1.0        3.0  6.795933\n",
      "\n",
      "[1000 rows x 3 columns]\n"
     ]
    },
    {
     "name": "stderr",
     "output_type": "stream",
     "text": [
      "/tmp/ipykernel_17378/1526713920.py:5: DeprecationWarning: DataFrameGroupBy.apply operated on the grouping columns. This behavior is deprecated, and in a future version of pandas the grouping columns will be excluded from the operation. Either pass `include_groups=False` to exclude the groupings or explicitly select the grouping columns after groupby to silence this warning.\n",
      "  RFM_test = original_data.groupby(\"User_ID\").apply(\n"
     ]
    }
   ],
   "source": [
    "#下面是对自定义加权的测试\n",
    "Mlist=[\"Income\",\"Total_Spending\",\"Average_Order_Value\"]\n",
    "weight=[0.2,0.3,0.5]\n",
    "#计算RFM,这里用apply是因为agg返回的是series，无法支持我们进行自定义计算。\n",
    "RFM_test = original_data.groupby(\"User_ID\").apply(\n",
    "    lambda group: pd.Series({\n",
    "        \"Recency\": group[\"Last_Login_Days_Ago\"].mean(),\n",
    "        \"Frequency\": group[\"Purchase_Frequency\"].sum(),\n",
    "        \"Monetary\": composit_means(Mlist, weight, group)\n",
    "    })\n",
    ")\n",
    "\n",
    "RFM_test[\"Recency\"]=-RFM_test[\"Recency\"]\n",
    "print(RFM_test)"
   ]
  },
  {
   "cell_type": "markdown",
   "id": "03af0714",
   "metadata": {},
   "source": [
    "实际上，这里由于User ID和对应的变量间形成了单射，所以RFM这个dataframe完全可以就直接切片，采用agg的形式是为了便于以后优化（如合并多个因子后进行归类。）"
   ]
  },
  {
   "cell_type": "code",
   "execution_count": null,
   "id": "b089438a",
   "metadata": {},
   "outputs": [],
   "source": [
    "#进行简单归类\n",
    "#评分\n",
    "RFM[\"R_score\"]=pd.qcut(RFM[\"Recency\"],q=5,labels=[1,2,3,4,5])\n",
    "RFM[\"F_score\"]=pd.qcut(RFM[\"Frequency\"],q=5,labels=[1,2,3,4,5])\n",
    "RFM[\"M_score\"]=pd.qcut(RFM[\"Monetary\"],q=5,labels=[1,2,3,4,5])\n",
    "#"
   ]
  },
  {
   "cell_type": "code",
   "execution_count": null,
   "id": "7b73a4bf",
   "metadata": {},
   "outputs": [],
   "source": []
  }
 ],
 "metadata": {
  "kernelspec": {
   "display_name": "Python 3",
   "language": "python",
   "name": "python3"
  },
  "language_info": {
   "codemirror_mode": {
    "name": "ipython",
    "version": 3
   },
   "file_extension": ".py",
   "mimetype": "text/x-python",
   "name": "python",
   "nbconvert_exporter": "python",
   "pygments_lexer": "ipython3",
   "version": "3.12.1"
  }
 },
 "nbformat": 4,
 "nbformat_minor": 5
}
