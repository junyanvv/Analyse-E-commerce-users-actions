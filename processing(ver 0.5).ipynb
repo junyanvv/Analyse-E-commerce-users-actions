{
 "cells": [
  {
   "cell_type": "code",
   "execution_count": 1,
   "id": "6104fd78",
   "metadata": {},
   "outputs": [],
   "source": [
    "import pandas as pd\n",
    "import numpy as np"
   ]
  },
  {
   "cell_type": "code",
   "execution_count": 2,
   "id": "5267ccba",
   "metadata": {},
   "outputs": [
    {
     "data": {
      "text/html": [
       "<div>\n",
       "<style scoped>\n",
       "    .dataframe tbody tr th:only-of-type {\n",
       "        vertical-align: middle;\n",
       "    }\n",
       "\n",
       "    .dataframe tbody tr th {\n",
       "        vertical-align: top;\n",
       "    }\n",
       "\n",
       "    .dataframe thead th {\n",
       "        text-align: right;\n",
       "    }\n",
       "</style>\n",
       "<table border=\"1\" class=\"dataframe\">\n",
       "  <thead>\n",
       "    <tr style=\"text-align: right;\">\n",
       "      <th></th>\n",
       "      <th>User_ID</th>\n",
       "      <th>Age</th>\n",
       "      <th>Gender</th>\n",
       "      <th>Location</th>\n",
       "      <th>Income</th>\n",
       "      <th>Interests</th>\n",
       "      <th>Last_Login_Days_Ago</th>\n",
       "      <th>Purchase_Frequency</th>\n",
       "      <th>Average_Order_Value</th>\n",
       "      <th>Total_Spending</th>\n",
       "      <th>Product_Category_Preference</th>\n",
       "      <th>Time_Spent_on_Site_Minutes</th>\n",
       "      <th>Pages_Viewed</th>\n",
       "      <th>Newsletter_Subscription</th>\n",
       "    </tr>\n",
       "  </thead>\n",
       "  <tbody>\n",
       "    <tr>\n",
       "      <th>0</th>\n",
       "      <td>#1</td>\n",
       "      <td>56</td>\n",
       "      <td>Male</td>\n",
       "      <td>Suburban</td>\n",
       "      <td>38037</td>\n",
       "      <td>Sports</td>\n",
       "      <td>5</td>\n",
       "      <td>7</td>\n",
       "      <td>18</td>\n",
       "      <td>2546</td>\n",
       "      <td>Books</td>\n",
       "      <td>584</td>\n",
       "      <td>38</td>\n",
       "      <td>True</td>\n",
       "    </tr>\n",
       "    <tr>\n",
       "      <th>1</th>\n",
       "      <td>#2</td>\n",
       "      <td>46</td>\n",
       "      <td>Female</td>\n",
       "      <td>Rural</td>\n",
       "      <td>103986</td>\n",
       "      <td>Technology</td>\n",
       "      <td>15</td>\n",
       "      <td>7</td>\n",
       "      <td>118</td>\n",
       "      <td>320</td>\n",
       "      <td>Electronics</td>\n",
       "      <td>432</td>\n",
       "      <td>40</td>\n",
       "      <td>False</td>\n",
       "    </tr>\n",
       "    <tr>\n",
       "      <th>2</th>\n",
       "      <td>#3</td>\n",
       "      <td>32</td>\n",
       "      <td>Female</td>\n",
       "      <td>Suburban</td>\n",
       "      <td>101942</td>\n",
       "      <td>Sports</td>\n",
       "      <td>28</td>\n",
       "      <td>1</td>\n",
       "      <td>146</td>\n",
       "      <td>3766</td>\n",
       "      <td>Apparel</td>\n",
       "      <td>306</td>\n",
       "      <td>1</td>\n",
       "      <td>True</td>\n",
       "    </tr>\n",
       "    <tr>\n",
       "      <th>3</th>\n",
       "      <td>#4</td>\n",
       "      <td>60</td>\n",
       "      <td>Female</td>\n",
       "      <td>Suburban</td>\n",
       "      <td>71612</td>\n",
       "      <td>Fashion</td>\n",
       "      <td>18</td>\n",
       "      <td>3</td>\n",
       "      <td>163</td>\n",
       "      <td>4377</td>\n",
       "      <td>Apparel</td>\n",
       "      <td>527</td>\n",
       "      <td>29</td>\n",
       "      <td>False</td>\n",
       "    </tr>\n",
       "    <tr>\n",
       "      <th>4</th>\n",
       "      <td>#5</td>\n",
       "      <td>25</td>\n",
       "      <td>Male</td>\n",
       "      <td>Suburban</td>\n",
       "      <td>49725</td>\n",
       "      <td>Travel</td>\n",
       "      <td>2</td>\n",
       "      <td>5</td>\n",
       "      <td>141</td>\n",
       "      <td>4502</td>\n",
       "      <td>Health &amp; Beauty</td>\n",
       "      <td>53</td>\n",
       "      <td>10</td>\n",
       "      <td>True</td>\n",
       "    </tr>\n",
       "  </tbody>\n",
       "</table>\n",
       "</div>"
      ],
      "text/plain": [
       "  User_ID  Age  Gender  Location  Income   Interests  Last_Login_Days_Ago  \\\n",
       "0      #1   56    Male  Suburban   38037      Sports                    5   \n",
       "1      #2   46  Female     Rural  103986  Technology                   15   \n",
       "2      #3   32  Female  Suburban  101942      Sports                   28   \n",
       "3      #4   60  Female  Suburban   71612     Fashion                   18   \n",
       "4      #5   25    Male  Suburban   49725      Travel                    2   \n",
       "\n",
       "   Purchase_Frequency  Average_Order_Value  Total_Spending  \\\n",
       "0                   7                   18            2546   \n",
       "1                   7                  118             320   \n",
       "2                   1                  146            3766   \n",
       "3                   3                  163            4377   \n",
       "4                   5                  141            4502   \n",
       "\n",
       "  Product_Category_Preference  Time_Spent_on_Site_Minutes  Pages_Viewed  \\\n",
       "0                       Books                         584            38   \n",
       "1                 Electronics                         432            40   \n",
       "2                     Apparel                         306             1   \n",
       "3                     Apparel                         527            29   \n",
       "4             Health & Beauty                          53            10   \n",
       "\n",
       "   Newsletter_Subscription  \n",
       "0                     True  \n",
       "1                    False  \n",
       "2                     True  \n",
       "3                    False  \n",
       "4                     True  "
      ]
     },
     "execution_count": 2,
     "metadata": {},
     "output_type": "execute_result"
    }
   ],
   "source": [
    "#读取数据，第一行作为columns，跳过第二行的中文说明字段\n",
    "original_data=pd.read_csv(\"ecommerce_user_behavior_dataset.csv\",header=0,skiprows=[1],encoding=\"gbk\")\n",
    "original_data.head()"
   ]
  },
  {
   "cell_type": "markdown",
   "id": "2120333a",
   "metadata": {},
   "source": [
    "构建RFM模型，需要界定R(Recency),F(Frequency),M(Monetary)，分别衡量最近一次消费是在几天前？消费的频率如何？消费金额如何？其与客户价值的关系分别为，R为负相关，F为正相关，M为正相关。为便于处理，我们新定义一个r来替代R，满足r=-R，这样RFM三个因子都为正相关。"
   ]
  },
  {
   "cell_type": "code",
   "execution_count": 3,
   "id": "9b492edb",
   "metadata": {},
   "outputs": [],
   "source": [
    "#实现自定义对多个列指标进行加权以构成核心R,F,M因子\n",
    "#考虑到不同的指标间的数据量级差别较大，这里对namelist中的每个值都进行对数化处理\n",
    "def composit_means(namelist,weight_list,group):\n",
    "    \"\"\"\n",
    "    namelist是需要进行加权的列名列表\n",
    "    weight_list是各个列名中的值对应的权重(索引一一对应,即namelist[a]的元素对应的权重为weight_list)\n",
    "    group是你需要进行自定义加权处理的数据集，需要在分组后进行使用\n",
    "    \"\"\"\n",
    "    if len(namelist)!=len(weight_list):\n",
    "        Error1=\"Error,check the whether namelist and weight list has the same dimensions\"\n",
    "        return Error1\n",
    "    if sum(weight_list)!=1:\n",
    "        Error2=\"Error, check whether your weight_list has a sum of 1\"\n",
    "        return Error2\n",
    "    weightedsum=0\n",
    "    for name, weight in zip(namelist,weight_list):\n",
    "        weightedsum+=np.log(group[name].mean())*weight\n",
    "    return weightedsum"
   ]
  },
  {
   "cell_type": "code",
   "execution_count": 4,
   "id": "288db86d",
   "metadata": {},
   "outputs": [
    {
     "name": "stdout",
     "output_type": "stream",
     "text": [
      "         Recency  Frequency  Monetary\n",
      "User_ID                              \n",
      "#1          -5.0          7        18\n",
      "#10        -13.0          8        61\n",
      "#100        -9.0          7        92\n",
      "#1000      -12.0          7       175\n",
      "#101       -29.0          5        51\n",
      "...          ...        ...       ...\n",
      "#995       -10.0          1        60\n",
      "#996       -18.0          7        83\n",
      "#997       -16.0          3       180\n",
      "#998        -8.0          8       130\n",
      "#999        -1.0          3       152\n",
      "\n",
      "[1000 rows x 3 columns]\n"
     ]
    }
   ],
   "source": [
    "#进行RFM计算（这里注意下agg语法的书写要求）\n",
    "#agg的语法为，输入一个字典，键为列名，值为计算方法，常见的有\"count\" \"sum\" \"mean\"······\n",
    "RFM=original_data.groupby(\"User_ID\").agg({\"Last_Login_Days_Ago\": \"mean\",\"Purchase_Frequency\":\"sum\",\"Average_Order_Value\":\"sum\"\n",
    "                                          }).rename(columns={\"Last_Login_Days_Ago\":\"Recency\",\"Purchase_Frequency\":\"Frequency\"\n",
    "                                                            ,\"Average_Order_Value\":\"Monetary\"})\n",
    "RFM[\"Recency\"]=-RFM[\"Recency\"]\n",
    "print(RFM)"
   ]
  },
  {
   "cell_type": "code",
   "execution_count": 5,
   "id": "253b51d0",
   "metadata": {},
   "outputs": [
    {
     "name": "stdout",
     "output_type": "stream",
     "text": [
      "         Recency  Frequency  Monetary\n",
      "User_ID                              \n",
      "#1          -5.0        7.0  5.907132\n",
      "#10        -13.0        8.0  6.952240\n",
      "#100        -9.0        7.0  6.878207\n",
      "#1000      -12.0        7.0  6.840940\n",
      "#101       -29.0        5.0  6.087967\n",
      "...          ...        ...       ...\n",
      "#995       -10.0        1.0  5.877430\n",
      "#996       -18.0        7.0  6.442719\n",
      "#997       -16.0        3.0  6.716892\n",
      "#998        -8.0        8.0  6.614837\n",
      "#999        -1.0        3.0  6.795933\n",
      "\n",
      "[1000 rows x 3 columns]\n"
     ]
    },
    {
     "name": "stderr",
     "output_type": "stream",
     "text": [
      "/tmp/ipykernel_47698/2443047354.py:5: DeprecationWarning: DataFrameGroupBy.apply operated on the grouping columns. This behavior is deprecated, and in a future version of pandas the grouping columns will be excluded from the operation. Either pass `include_groups=False` to exclude the groupings or explicitly select the grouping columns after groupby to silence this warning.\n",
      "  RFM_test = original_data.groupby(\"User_ID\").apply(\n"
     ]
    }
   ],
   "source": [
    "#下面是对自定义加权的测试\n",
    "Mlist=[\"Income\",\"Total_Spending\",\"Average_Order_Value\"]\n",
    "weight=[0.2,0.3,0.5]\n",
    "#计算RFM,这里用apply是因为agg返回的是series，无法支持我们进行自定义计算。\n",
    "RFM_test = original_data.groupby(\"User_ID\").apply(\n",
    "    lambda group: pd.Series({\n",
    "        \"Recency\": group[\"Last_Login_Days_Ago\"].mean(),\n",
    "        \"Frequency\": group[\"Purchase_Frequency\"].sum(),\n",
    "        \"Monetary\": composit_means(Mlist, weight, group)\n",
    "    })\n",
    ")\n",
    "\n",
    "RFM_test[\"Recency\"]=-RFM_test[\"Recency\"]\n",
    "print(RFM_test)"
   ]
  },
  {
   "cell_type": "markdown",
   "id": "3fb7ac13",
   "metadata": {},
   "source": [
    "更进一步的，我们不用在composit函数中进行手动界定权重，可以通过PCA主成分分析，将概念上相关的几个因子合并成一个因子。这通常从数理上来看是更加“正确”的做法，但考虑到我们需要结合业务实际，故谨记可以composit的定义方法，实现自定义计算。"
   ]
  },
  {
   "cell_type": "code",
   "execution_count": 6,
   "id": "c3cd21dc",
   "metadata": {},
   "outputs": [
    {
     "name": "stdout",
     "output_type": "stream",
     "text": [
      "         Recency  Frequency   Monetary\n",
      "User_ID                               \n",
      "#1          -5.0        7.0   9.512936\n",
      "#10        -13.0        8.0  10.650681\n",
      "#100        -9.0        7.0   9.513034\n",
      "#1000      -12.0        7.0  10.130809\n",
      "#101       -29.0        5.0  10.050052\n",
      "...          ...        ...        ...\n",
      "#995       -10.0        1.0   9.452737\n",
      "#996       -18.0        7.0  10.461693\n",
      "#997       -16.0        3.0  10.410446\n",
      "#998        -8.0        8.0  10.101997\n",
      "#999        -1.0        3.0   9.919213\n",
      "\n",
      "[1000 rows x 3 columns]\n"
     ]
    },
    {
     "name": "stderr",
     "output_type": "stream",
     "text": [
      "/tmp/ipykernel_47698/383489190.py:16: DeprecationWarning: DataFrameGroupBy.apply operated on the grouping columns. This behavior is deprecated, and in a future version of pandas the grouping columns will be excluded from the operation. Either pass `include_groups=False` to exclude the groupings or explicitly select the grouping columns after groupby to silence this warning.\n",
      "  RFM_pca=original_data.groupby(\"User_ID\").apply(\n"
     ]
    }
   ],
   "source": [
    "from sklearn.preprocessing import StandardScaler\n",
    "from sklearn.decomposition import PCA\n",
    "Mlist=[\"Income\",\"Total_Spending\",\"Average_Order_Value\"]\n",
    "#定义pca方法，用于对Monetary进行主成分分析\n",
    "def pca_monetary(group,list):\n",
    "    data=group[list].values\n",
    "    #如果仅有一条有效记录，则直接返回其均值即可\n",
    "    if data.shape[0] < 2:\n",
    "        return np.mean(data)\n",
    "    scaler=StandardScaler()\n",
    "    data_scaled=scaler.fit_transform(data)\n",
    "    #进行数据标准化\n",
    "    pca=PCA(n_components=1)\n",
    "    return pca.fit_transform(data_scaled).mean()\n",
    "    #转换为单一有效因子。\n",
    "RFM_pca=original_data.groupby(\"User_ID\").apply(\n",
    "    lambda group: pd.Series({\n",
    "        \"Recency\": group[\"Last_Login_Days_Ago\"].mean(),\n",
    "        \"Frequency\": group[\"Purchase_Frequency\"].sum(),\n",
    "        \"Monetary\": pca_monetary(group,Mlist)\n",
    "    })\n",
    ")\n",
    "RFM_pca[\"Recency\"]=-RFM_pca[\"Recency\"]\n",
    "RFM_pca[\"Monetary\"]=np.log(RFM_pca[\"Monetary\"])\n",
    "print(RFM_pca)"
   ]
  },
  {
   "cell_type": "code",
   "execution_count": 7,
   "id": "1869e0cd",
   "metadata": {},
   "outputs": [
    {
     "name": "stdout",
     "output_type": "stream",
     "text": [
      "Overall PCA coefficients: [[-0.47762148  0.6950147   0.5374312 ]]\n"
     ]
    }
   ],
   "source": [
    "#检查PCA系数，判断标准化是否起效\n",
    "user_monetary = original_data.groupby(\"User_ID\")[Mlist].mean()\n",
    "scaler = StandardScaler()\n",
    "user_monetary_scaled = scaler.fit_transform(user_monetary)\n",
    "pca = PCA(n_components=1)\n",
    "pca.fit(user_monetary_scaled)\n",
    "print(\"Overall PCA coefficients:\", pca.components_)"
   ]
  },
  {
   "cell_type": "markdown",
   "id": "d95c1abc",
   "metadata": {},
   "source": [
    "接下来，基于最简单的RFM模型进行评分和分类分析。"
   ]
  },
  {
   "cell_type": "code",
   "execution_count": 8,
   "id": "b089438a",
   "metadata": {},
   "outputs": [
    {
     "name": "stdout",
     "output_type": "stream",
     "text": [
      "         Recency  Frequency  Monetary R_score F_score M_score  total_score\n",
      "User_ID                                                                   \n",
      "#1          -5.0          7        18       5       4       1           10\n",
      "#10        -13.0          8        61       3       4       2            9\n",
      "#100        -9.0          7        92       4       4       3           11\n",
      "#1000      -12.0          7       175       4       4       5           13\n",
      "#101       -29.0          5        51       1       3       2            6\n",
      "...          ...        ...       ...     ...     ...     ...          ...\n",
      "#995       -10.0          1        60       4       1       2            7\n",
      "#996       -18.0          7        83       2       4       2            8\n",
      "#997       -16.0          3       180       3       2       5           10\n",
      "#998        -8.0          8       130       4       4       4           12\n",
      "#999        -1.0          3       152       5       2       4           11\n",
      "\n",
      "[1000 rows x 7 columns]\n"
     ]
    }
   ],
   "source": [
    "#进行简单归类\n",
    "#评分\n",
    "RFM[\"R_score\"]=pd.qcut(RFM[\"Recency\"],q=5,labels=[1,2,3,4,5])\n",
    "RFM[\"F_score\"]=pd.qcut(RFM[\"Frequency\"],q=5,labels=[1,2,3,4,5])\n",
    "RFM[\"M_score\"]=pd.qcut(RFM[\"Monetary\"],q=5,labels=[1,2,3,4,5])\n",
    "RFM[\"total_score\"]=RFM[\"R_score\"].astype(int) + RFM[\"F_score\"].astype(int) + RFM[\"M_score\"].astype(int)\n",
    "print(RFM)"
   ]
  },
  {
   "cell_type": "code",
   "execution_count": 9,
   "id": "7b73a4bf",
   "metadata": {},
   "outputs": [],
   "source": [
    "#进行分类，这里是根据总分进行类别分类（高价值，低价值，中价值分类）\n",
    "def value_classify_rfm(row):\n",
    "    if row[\"total_score\"] >= 12:\n",
    "        return \"High Value\"\n",
    "    elif row[\"total_score\"] >= 8:\n",
    "        return \"Medium Value\"\n",
    "    else:\n",
    "        return \"Low Value\"\n",
    "RFM[\"value_Classify\"] = RFM.apply(value_classify_rfm, axis=1)"
   ]
  },
  {
   "cell_type": "code",
   "execution_count": 10,
   "id": "83a77431",
   "metadata": {},
   "outputs": [
    {
     "name": "stdout",
     "output_type": "stream",
     "text": [
      "[[-0.70710678  0.70710678]]\n"
     ]
    }
   ],
   "source": [
    "#进行活跃度分类，分为流失客户，活跃客户和潜在客户\n",
    "\"\"\"\n",
    "注意，在这里我们实际上可以再做一次PCA，针对Frequency和Recency进行合并\n",
    "因为Frequency衡量的是购买频次，Recency衡量的是最近一次购买的时间间隔\n",
    "两者都能够有效的对活跃度进行分析，故我们可以再进行一次PCA合并分析\n",
    "\"\"\"\n",
    "Activelist=[\"Recency\",\"Frequency\"]\n",
    "user_activity = RFM.groupby(\"User_ID\")[Activelist].mean()\n",
    "scaler = StandardScaler()\n",
    "user_activity_scaled = scaler.fit_transform(user_activity)\n",
    "pca_activity = PCA(n_components=1)\n",
    "pca_activity.fit(user_activity_scaled)\n",
    "print(pca_activity.components_)\n",
    "#由此我们可以得到一个活跃度的主成分分析结果\n",
    "RFM[\"Activity_Score\"] = pca_activity.transform(user_activity_scaled)\n"
   ]
  },
  {
   "cell_type": "code",
   "execution_count": 11,
   "id": "0014f480",
   "metadata": {},
   "outputs": [
    {
     "data": {
      "image/png": "[encoded data removed]",
      "text/plain": [
       "<Figure size 1000x600 with 1 Axes>"
      ]
     },
     "metadata": {},
     "output_type": "display_data"
    }
   ],
   "source": [
    "#进行可视化，画一个分布图\n",
    "import matplotlib.pyplot as plt\n",
    "import seaborn as sns\n",
    "plt.figure(figsize=(10, 6))\n",
    "sns.histplot(RFM['Activity_Score'], bins=30, kde=True)\n",
    "plt.title('Distribution of Activity Score')\n",
    "plt.ylabel('Frequency')\n",
    "plt.xlabel(\"Activity Score\")\n",
    "plt.show()"
   ]
  },
  {
   "cell_type": "code",
   "execution_count": 13,
   "id": "8fa5f0e7",
   "metadata": {},
   "outputs": [
    {
     "name": "stdout",
     "output_type": "stream",
     "text": [
      "         Recency  Frequency  Monetary R_score F_score M_score  total_score  \\\n",
      "User_ID                                                                      \n",
      "#1          -5.0          7        18       5       4       1           10   \n",
      "#10        -13.0          8        61       3       4       2            9   \n",
      "#100        -9.0          7        92       4       4       3           11   \n",
      "#1000      -12.0          7       175       4       4       5           13   \n",
      "#101       -29.0          5        51       1       3       2            6   \n",
      "...          ...        ...       ...     ...     ...     ...          ...   \n",
      "#995       -10.0          1        60       4       1       2            7   \n",
      "#996       -18.0          7        83       2       4       2            8   \n",
      "#997       -16.0          3       180       3       2       5           10   \n",
      "#998        -8.0          8       130       4       4       4           12   \n",
      "#999        -1.0          3       152       5       2       4           11   \n",
      "\n",
      "        value_Classify  Activity_Score Activity_Classify  \n",
      "User_ID                                                   \n",
      "#1        Medium Value       -0.322093         Potential  \n",
      "#10       Medium Value        0.616943            Active  \n",
      "#100      Medium Value        0.022774         Potential  \n",
      "#1000       High Value        0.281424         Potential  \n",
      "#101         Low Value        1.248504            Active  \n",
      "...                ...             ...               ...  \n",
      "#995         Low Value       -1.386824           Churned  \n",
      "#996      Medium Value        0.798724            Active  \n",
      "#997      Medium Value       -0.370918         Potential  \n",
      "#998        High Value        0.185859         Potential  \n",
      "#999      Medium Value       -1.664170           Churned  \n",
      "\n",
      "[1000 rows x 10 columns]\n"
     ]
    }
   ],
   "source": [
    "#进行活跃度分类\n",
    "def activity_classify(row):\n",
    "    if row[\"Activity_Score\"] >= 0.5:\n",
    "        return \"Active\"\n",
    "    elif row[\"Activity_Score\"] >= -0.5:\n",
    "        return \"Potential\"\n",
    "    else:\n",
    "        return \"Churned\"\n",
    "RFM[\"Activity_Classify\"] = RFM.apply(activity_classify, axis=1)\n",
    "print(RFM)"
   ]
  }
 ],
 "metadata": {
  "kernelspec": {
   "display_name": "Python 3",
   "language": "python",
   "name": "python3"
  },
  "language_info": {
   "codemirror_mode": {
    "name": "ipython",
    "version": 3
   },
   "file_extension": ".py",
   "mimetype": "text/x-python",
   "name": "python",
   "nbconvert_exporter": "python",
   "pygments_lexer": "ipython3",
   "version": "3.12.1"
  }
 },
 "nbformat": 4,
 "nbformat_minor": 5
}
